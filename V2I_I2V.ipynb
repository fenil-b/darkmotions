{
 "cells": [
  {
   "cell_type": "code",
   "execution_count": 17,
   "metadata": {},
   "outputs": [],
   "source": [
    "import cv2\n",
    "import os"
   ]
  },
  {
   "cell_type": "code",
   "execution_count": 15,
   "metadata": {},
   "outputs": [],
   "source": [
    "vid_path = '/home/fb/Desktop/ASU/DVP/project/dataset2/LoLi-Phone_release/all_videos/test_videos/Huawei Mate 20 Pro/VID_20210209_185131.mp4'\n",
    "vid = cv2.VideoCapture(vid_path)\n",
    "\n",
    "output_frames_path = '/home/fb/Desktop/ASU/DVP/project/dataset2/LoLi-Phone_release/all_videos/test_frames/'\n",
    "count = 0\n",
    "while True:\n",
    "    ret, frame = vid.read()\n",
    "    if not ret:\n",
    "        break\n",
    "    cv2.imwrite(output_frames_path + str(count) + '.jpg', frame)\n",
    "    count += 1\n",
    "vid.release()"
   ]
  },
  {
   "cell_type": "code",
   "execution_count": 16,
   "metadata": {},
   "outputs": [],
   "source": [
    "vid_path = '/home/fb/Desktop/ASU/DVP/project/dataset2/LoLi-Phone_release/all_videos/test_videos/Huawei Mate 20 Pro/VID_20210209_185131.mp4'\n",
    "vid = cv2.VideoCapture(vid_path)\n",
    "height = int(vid.get(cv2.CAP_PROP_FRAME_HEIGHT))\n",
    "width =  int(vid.get(cv2.CAP_PROP_FRAME_WIDTH))\n",
    "fps = vid.get(cv2.CAP_PROP_FPS)\n",
    "\n",
    "output_frames_path = '/home/fb/Desktop/ASU/DVP/project/dataset2/LoLi-Phone_release/all_videos/test_out_frames/'\n",
    "output_vid_path = '/home/fb/Desktop/ASU/DVP/project/dataset2/LoLi-Phone_release/all_videos/test_out_video/'\n",
    "\n",
    "fourcc = cv2.VideoWriter_fourcc(*'mp4v')\n",
    "output_video = cv2.VideoWriter(output_vid_path + 'output.mp4', fourcc, fps, (width, height))\n",
    "\n",
    "for i in range(len(os.listdir(output_frames_path))):\n",
    "    output_video.write(cv2.imread(output_frames_path + str(i) + '.jpg'))\n",
    "\n",
    "vid.release()\n",
    "output_video.release()"
   ]
  },
  {
   "cell_type": "code",
   "execution_count": 24,
   "metadata": {},
   "outputs": [
    {
     "name": "stdout",
     "output_type": "stream",
     "text": [
      "0.3314320656024943\n"
     ]
    }
   ],
   "source": [
    "import numpy as np\n",
    "from skimage.metrics import structural_similarity as ssim\n",
    "\n",
    "def vssim(original_video, distorted_video):\n",
    "    video_dim = original_video[0].shape\n",
    "    rs = 20\n",
    "    win_size = 8\n",
    "    ssim_ij = np.zeros((len(original_video), rs))\n",
    "    qi = np.zeros(len(original_video))\n",
    "    for i, [f, sdf] in enumerate(zip(original_video, distorted_video)):\n",
    "        for j in range(rs):\n",
    "            srow = np.random.randint(0, video_dim[0]-win_size+1)\n",
    "            scol = np.random.randint(0, video_dim[1]-win_size+1)\n",
    "            window_f = f[srow:srow+8, scol:scol+win_size]\n",
    "            window_sdf = sdf[srow:srow+8, scol:scol+win_size]\n",
    "            ssim_ij[i, j] = ssim(window_f, window_sdf)\n",
    "        qi[i] = sum(ssim_ij[i, :]) / rs\n",
    "\n",
    "    q = sum(rs * qi) / (rs * len(original_video))\n",
    "\n",
    "    return q\n",
    "\n",
    "og_vid_path = '/home/fb/Desktop/ASU/DVP/project/dataset2/LoLi-Phone_release/all_videos/test2.mp4'\n",
    "vid1 = cv2.VideoCapture(og_vid_path)\n",
    "enh_vid_path = '/home/fb/Desktop/ASU/DVP/project/dataset2/LoLi-Phone_release/all_videos/output2.mp4'\n",
    "vid2 = cv2.VideoCapture(enh_vid_path)\n",
    "og_vid = []\n",
    "enh_vid = []\n",
    "while True:\n",
    "    ret, frame = vid1.read()\n",
    "    if not ret:\n",
    "        break\n",
    "    frame = cv2.cvtColor(frame, cv2.COLOR_BGR2GRAY)\n",
    "    og_vid.append(frame)\n",
    "vid1.release()\n",
    "while True:\n",
    "    ret, frame = vid2.read()\n",
    "    if not ret:\n",
    "        break\n",
    "    frame = cv2.cvtColor(frame, cv2.COLOR_BGR2GRAY)\n",
    "    enh_vid.append(frame)\n",
    "vid2.release()\n",
    "\n",
    "print(vssim(og_vid, enh_vid))"
   ]
  },
  {
   "cell_type": "code",
   "execution_count": null,
   "metadata": {},
   "outputs": [],
   "source": []
  }
 ],
 "metadata": {
  "kernelspec": {
   "display_name": "dvpenv",
   "language": "python",
   "name": "python3"
  },
  "language_info": {
   "codemirror_mode": {
    "name": "ipython",
    "version": 3
   },
   "file_extension": ".py",
   "mimetype": "text/x-python",
   "name": "python",
   "nbconvert_exporter": "python",
   "pygments_lexer": "ipython3",
   "version": "3.10.12"
  }
 },
 "nbformat": 4,
 "nbformat_minor": 2
}
